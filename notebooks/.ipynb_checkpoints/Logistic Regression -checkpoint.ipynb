{
 "cells": [
  {
   "cell_type": "code",
   "execution_count": 1,
   "id": "afraid-library",
   "metadata": {},
   "outputs": [],
   "source": [
    "from cat_classifier.datasets import images_to_vector\n",
    "from cat_classifier.models import logistic_regression\n",
    "import numpy as np\n",
    "import matplotlib.pyplot as plt\n",
    "import random"
   ]
  },
  {
   "cell_type": "markdown",
   "id": "prostate-aberdeen",
   "metadata": {},
   "source": [
    "### Prepare the training data\n",
    "\n",
    "`images_to_vector` module contains handy functions to retrieve the features vectors for training and testing.\n",
    "\n",
    "Expected shape of data should be `(64*64*3, numer_of_samples)`. \n",
    "\n"
   ]
  },
  {
   "cell_type": "code",
   "execution_count": 2,
   "id": "collectible-defendant",
   "metadata": {},
   "outputs": [
    {
     "name": "stdout",
     "output_type": "stream",
     "text": [
      "X_train shape: (12288, 147)\n",
      "X_test shape: (12288, 50)\n",
      "no_cats_training_vectors: (12288, 39)\n",
      "no_cats_test_vectors: (12288, 20)\n"
     ]
    }
   ],
   "source": [
    "# Get the non-cat images data\n",
    "no_cats_training_vectors = images_to_vector.get_no_cats_training_data()\n",
    "no_cats_training_labels = np.zeros(\n",
    "    no_cats_training_vectors.shape[1]\n",
    ").reshape((1, no_cats_training_vectors.shape[1]))\n",
    "\n",
    "no_cats_test_vectors = images_to_vector.get_no_cats_test_data()\n",
    "no_cats_test_labels = np.zeros(\n",
    "    no_cats_test_vectors.shape[1]\n",
    ").reshape((1, no_cats_test_vectors.shape[1]))\n",
    "\n",
    "\n",
    "X_train = images_to_vector.get_training_data()\n",
    "X_test = images_to_vector.get_test_data()\n",
    "\n",
    "# Standardize the datasets \n",
    "X_train = X_train / 255\n",
    "X_test = X_test / 255\n",
    "no_cats_training_vectors = no_cats_training_vectors / 255\n",
    "no_cats_test_vectors = no_cats_test_vectors / 255\n",
    "\n",
    "\n",
    "print(f\"X_train shape: {X_train.shape}\")\n",
    "print(f\"X_test shape: {X_test.shape}\")\n",
    "print(f\"no_cats_training_vectors: {no_cats_training_vectors.shape}\")\n",
    "print(f\"no_cats_test_vectors: {no_cats_test_vectors.shape}\")"
   ]
  },
  {
   "cell_type": "markdown",
   "id": "spoken-strategy",
   "metadata": {},
   "source": [
    "Creates the labels vectors:"
   ]
  },
  {
   "cell_type": "code",
   "execution_count": 3,
   "id": "raising-rebel",
   "metadata": {},
   "outputs": [
    {
     "name": "stdout",
     "output_type": "stream",
     "text": [
      "Y_train shape: (1, 147)\n",
      "Y_test shape: (1, 50)\n"
     ]
    }
   ],
   "source": [
    "Y_train = np.ones(X_train.shape[1]).reshape((1, X_train.shape[1]))\n",
    "Y_test = np.ones(X_test.shape[1]).reshape((1, X_test.shape[1]))\n",
    "\n",
    "print(f\"Y_train shape: {Y_train.shape}\")\n",
    "print(f\"Y_test shape: {Y_test.shape}\")"
   ]
  },
  {
   "cell_type": "code",
   "execution_count": 4,
   "id": "colored-poland",
   "metadata": {},
   "outputs": [
    {
     "name": "stdout",
     "output_type": "stream",
     "text": [
      "X_train shape: (12288, 186)\n",
      "X_test shape: (12288, 70)\n",
      "Y_train shape: (1, 186)\n",
      "Y_test shape: (1, 70)\n"
     ]
    }
   ],
   "source": [
    "#Concatenates cats pictures with no cats pictures. \n",
    "\n",
    "X_train = np.append(X_train, no_cats_training_vectors, axis=1)\n",
    "X_test = np.append(X_test, no_cats_test_vectors, axis=1)\n",
    "Y_train = np.append(Y_train, no_cats_training_labels, axis=1)\n",
    "Y_test = np.append(Y_test, no_cats_test_labels, axis=1)\n",
    "\n",
    "print(f\"X_train shape: {X_train.shape}\")\n",
    "print(f\"X_test shape: {X_test.shape}\")\n",
    "print(f\"Y_train shape: {Y_train.shape}\")\n",
    "print(f\"Y_test shape: {Y_test.shape}\")"
   ]
  },
  {
   "cell_type": "markdown",
   "id": "hidden-johns",
   "metadata": {},
   "source": [
    "### Run the logistic regression model \n",
    "\n",
    "Use the module `logistic_regression` to run the model on the training data and assert the performance on the test data. "
   ]
  },
  {
   "cell_type": "code",
   "execution_count": 5,
   "id": "varying-digest",
   "metadata": {
    "scrolled": false
   },
   "outputs": [
    {
     "name": "stdout",
     "output_type": "stream",
     "text": [
      "Cost after iteration 0: 0.6931471805599454\n",
      "Cost after iteration 100: 0.21710393856534352\n",
      "Cost after iteration 200: 0.13700271388745508\n",
      "Cost after iteration 300: 0.09821428400346319\n",
      "Cost after iteration 400: 0.07583129807740334\n",
      "Cost after iteration 500: 0.061453373971928786\n",
      "Cost after iteration 600: 0.051512232937106085\n",
      "Cost after iteration 700: 0.04426140383691455\n",
      "Cost after iteration 800: 0.03875482921542549\n",
      "Cost after iteration 900: 0.03443908505929299\n",
      "Cost after iteration 1000: 0.03097033283353876\n",
      "Cost after iteration 1100: 0.028124360170809912\n",
      "Cost after iteration 1200: 0.025749048145205556\n",
      "Cost after iteration 1300: 0.02373772220612474\n",
      "Cost after iteration 1400: 0.02201345549274271\n",
      "Cost after iteration 1500: 0.020519429442441305\n",
      "Cost after iteration 1600: 0.01921279907879142\n",
      "Cost after iteration 1700: 0.018060666296998977\n",
      "Cost after iteration 1800: 0.01703736453987555\n",
      "Cost after iteration 1900: 0.016122583761655256\n",
      "train accuracy: 75.26881720430107 %\n",
      "test accuracy: 100.0 %\n"
     ]
    }
   ],
   "source": [
    "results = logistic_regression.model(\n",
    "    X_train,\n",
    "    Y_train,\n",
    "    X_test,\n",
    "    Y_test,\n",
    "    num_iterations = 2000, \n",
    "    learning_rate = 0.005, \n",
    "    print_cost = True\n",
    ")"
   ]
  },
  {
   "cell_type": "markdown",
   "id": "controlled-yeast",
   "metadata": {},
   "source": [
    "### Plot of the learning curve \n"
   ]
  },
  {
   "cell_type": "code",
   "execution_count": 6,
   "id": "nasty-netscape",
   "metadata": {},
   "outputs": [
    {
     "data": {
      "image/png": "[encoded data removed]",
      "text/plain": [
       "<Figure size 432x288 with 1 Axes>"
      ]
     },
     "metadata": {
      "needs_background": "light"
     },
     "output_type": "display_data"
    }
   ],
   "source": [
    "# Plot learning curve (with costs)\n",
    "costs = np.squeeze(results['costs'])\n",
    "plt.plot(costs)\n",
    "plt.ylabel('cost')\n",
    "plt.xlabel('iterations (per hundreds)')\n",
    "plt.title(\"Learning rate =\" + str(results[\"learning_rate\"]))\n",
    "plt.show()"
   ]
  },
  {
   "cell_type": "markdown",
   "id": "attempted-client",
   "metadata": {},
   "source": [
    "### Test with custom images\n",
    "\n",
    "Test the trained model with custom images of cats and non-cat pics. \n"
   ]
  },
  {
   "cell_type": "code",
   "execution_count": 7,
   "id": "controlled-pierre",
   "metadata": {},
   "outputs": [
    {
     "name": "stdout",
     "output_type": "stream",
     "text": [
      "Test against an opera picture. It should predict 0.0\n",
      "[[0.]]\n"
     ]
    }
   ],
   "source": [
    "from PIL import Image\n",
    "my_image = Image.open(\"../learning/pillow/images/opera_house.jpg\") \n",
    "my_image = my_image.resize((64,64))\n",
    "image = np.asarray(my_image)\n",
    "image = image.reshape(1, 64*64*3).T\n",
    "my_predicted_image = logistic_regression.predict(results[\"w\"], results[\"b\"], image/255)\n",
    "\n",
    "print(\"Test against an opera picture. It should predict 0.0\")\n",
    "print(my_predicted_image)"
   ]
  },
  {
   "cell_type": "code",
   "execution_count": 8,
   "id": "massive-excess",
   "metadata": {},
   "outputs": [
    {
     "name": "stdout",
     "output_type": "stream",
     "text": [
      "Test against a street picture. It should predict 0.0\n",
      "[[0.]]\n"
     ]
    }
   ],
   "source": [
    "from PIL import Image\n",
    "my_image = Image.open(\"../learning/pillow/images/street.jpg\") \n",
    "my_image = my_image.resize((64,64))\n",
    "image = np.asarray(my_image)\n",
    "image = image.reshape(1, 64*64*3).T\n",
    "my_predicted_image = logistic_regression.predict(results[\"w\"], results[\"b\"], image/255)\n",
    "\n",
    "print(\"Test against a street picture. It should predict 0.0\")\n",
    "print(my_predicted_image)"
   ]
  },
  {
   "cell_type": "code",
   "execution_count": 9,
   "id": "statutory-longer",
   "metadata": {},
   "outputs": [
    {
     "name": "stdout",
     "output_type": "stream",
     "text": [
      "Test against a car picture. It should predict 0.0\n",
      "[[0.]]\n"
     ]
    }
   ],
   "source": [
    "from PIL import Image\n",
    "my_image = Image.open(\"../learning/pillow/images/car.jpeg\") \n",
    "my_image = my_image.resize((64,64))\n",
    "image = np.asarray(my_image)\n",
    "image = image.reshape(1, 64*64*3).T\n",
    "my_predicted_image = logistic_regression.predict(results[\"w\"], results[\"b\"], image/255)\n",
    "\n",
    "print(\"Test against a car picture. It should predict 0.0\")\n",
    "print(my_predicted_image)"
   ]
  },
  {
   "cell_type": "code",
   "execution_count": 10,
   "id": "coated-duncan",
   "metadata": {},
   "outputs": [
    {
     "name": "stdout",
     "output_type": "stream",
     "text": [
      "Test against a beach picture. It should predict 0.0\n",
      "[[0.]]\n"
     ]
    }
   ],
   "source": [
    "from PIL import Image\n",
    "my_image = Image.open(\"../learning/pillow/images/beach.jpg\") \n",
    "my_image = my_image.resize((64,64))\n",
    "image = np.asarray(my_image)\n",
    "image = image.reshape(1, 64*64*3).T\n",
    "my_predicted_image = logistic_regression.predict(results[\"w\"], results[\"b\"], image/255)\n",
    "\n",
    "print(\"Test against a beach picture. It should predict 0.0\")\n",
    "print(my_predicted_image)"
   ]
  },
  {
   "cell_type": "code",
   "execution_count": 11,
   "id": "dense-supervisor",
   "metadata": {},
   "outputs": [
    {
     "name": "stdout",
     "output_type": "stream",
     "text": [
      "Test against a cat picture. It should predict 1.0\n",
      "[[1.]]\n"
     ]
    }
   ],
   "source": [
    "from PIL import Image\n",
    "my_image = Image.open(\"../learning/pillow/images/cat_1.jpg\") \n",
    "my_image = my_image.resize((64,64))\n",
    "image = np.asarray(my_image)\n",
    "image = image.reshape(1, 64*64*3).T\n",
    "my_predicted_image = logistic_regression.predict(results[\"w\"], results[\"b\"], image/255)\n",
    "\n",
    "print(\"Test against a cat picture. It should predict 1.0\")\n",
    "print(my_predicted_image)"
   ]
  },
  {
   "cell_type": "code",
   "execution_count": 12,
   "id": "destroyed-crawford",
   "metadata": {},
   "outputs": [
    {
     "name": "stdout",
     "output_type": "stream",
     "text": [
      "Test against a cat picture. It should predict 1.0\n",
      "[[1.]]\n"
     ]
    }
   ],
   "source": [
    "from PIL import Image\n",
    "my_image = Image.open(\"../learning/pillow/images/cat_2.jpg\") \n",
    "my_image = my_image.resize((64,64))\n",
    "image = np.asarray(my_image)\n",
    "image = image.reshape(1, 64*64*3).T\n",
    "my_predicted_image = logistic_regression.predict(results[\"w\"], results[\"b\"], image/255)\n",
    "\n",
    "print(\"Test against a cat picture. It should predict 1.0\")\n",
    "print(my_predicted_image)"
   ]
  },
  {
   "cell_type": "code",
   "execution_count": 14,
   "id": "cosmetic-lexington",
   "metadata": {},
   "outputs": [
    {
     "name": "stdout",
     "output_type": "stream",
     "text": [
      "Test against a cat picture. It should predict 1.0\n",
      "[[1.]]\n"
     ]
    }
   ],
   "source": [
    "from PIL import Image\n",
    "my_image = Image.open(\"../learning/pillow/images/cat_3.jpg\") \n",
    "my_image = my_image.resize((64,64))\n",
    "image = np.asarray(my_image)\n",
    "image = image.reshape(1, 64*64*3).T\n",
    "my_predicted_image = logistic_regression.predict(results[\"w\"], results[\"b\"], image/255)\n",
    "\n",
    "print(\"Test against a cat picture. It should predict 1.0\")\n",
    "print(my_predicted_image)"
   ]
  },
  {
   "cell_type": "code",
   "execution_count": 13,
   "id": "boxed-apache",
   "metadata": {},
   "outputs": [
    {
     "name": "stdout",
     "output_type": "stream",
     "text": [
      "Test against a cat picture. It should predict 1.0\n",
      "[[1.]]\n"
     ]
    }
   ],
   "source": [
    "from PIL import Image\n",
    "my_image = Image.open(\"../learning/pillow/images/cat_4.jpg\") \n",
    "my_image = my_image.resize((64,64))\n",
    "image = np.asarray(my_image)\n",
    "image = image.reshape(1, 64*64*3).T\n",
    "my_predicted_image = logistic_regression.predict(results[\"w\"], results[\"b\"], image/255)\n",
    "\n",
    "print(\"Test against a cat picture. It should predict 1.0\")\n",
    "print(my_predicted_image)"
   ]
  },
  {
   "cell_type": "code",
   "execution_count": null,
   "id": "experimental-stress",
   "metadata": {},
   "outputs": [],
   "source": []
  }
 ],
 "metadata": {
  "kernelspec": {
   "display_name": "Python 3",
   "language": "python",
   "name": "python3"
  },
  "language_info": {
   "codemirror_mode": {
    "name": "ipython",
    "version": 3
   },
   "file_extension": ".py",
   "mimetype": "text/x-python",
   "name": "python",
   "nbconvert_exporter": "python",
   "pygments_lexer": "ipython3",
   "version": "3.8.0"
  }
 },
 "nbformat": 4,
 "nbformat_minor": 5
}
